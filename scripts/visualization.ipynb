{
 "cells": [
  {
   "cell_type": "markdown",
   "id": "eb91a644",
   "metadata": {},
   "source": [
    "\n",
    "# ATSC PBIL: Pipeline Notebook\n",
    "\n",
    "Notebook này chạy tuần tự các bước:\n",
    "1) Build **net-info file** và **tls-candidates** → `net-info.json`, `tls-candidates.json`\n",
    "2) **Chạy baselines** (No-ATSC / All-ATSC)  \n",
    "3) **Chạy thuật toán lựa chọn nút giao** (PBIL)\n",
    "4) **Chạy đánh giá kết quả** (Evaluate)\n",
    "5) **Tổng hợp & trực quan hoá** kết quả\n",
    "\n",
    "> Gợi ý: đặt file này vào thư mục `scripts/` của repo: `scripts/atsc_pipeline.ipynb`."
   ]
  },
  {
   "cell_type": "markdown",
   "id": "d6bb6a99",
   "metadata": {},
   "source": [
    "### 0. Setup Environment"
   ]
  },
  {
   "cell_type": "code",
   "execution_count": 10,
   "id": "371a62df",
   "metadata": {},
   "outputs": [
    {
     "name": "stdout",
     "output_type": "stream",
     "text": [
      "Installing dependencies from lock file\n",
      "\n",
      "No dependencies to install or update\n",
      "\n",
      "Installing the current project: choose-atsc-pbil (0.1.0)\n"
     ]
    }
   ],
   "source": [
    "# Install dependencies\n",
    "!poetry install\n",
    "# Import libraries dependencies\n",
    "import subprocess\n",
    "import json\n",
    "import os\n",
    "from IPython.display import Image, display\n",
    "from datetime import datetime"
   ]
  },
  {
   "cell_type": "code",
   "execution_count": 11,
   "id": "87641fbb",
   "metadata": {},
   "outputs": [
    {
     "name": "stdout",
     "output_type": "stream",
     "text": [
      "E:\\VTS\\ITS\\Choose ATSC\\Software\\choose_ATSC_PBIL\n",
      "Project root: E:/VTS/ITS/Choose ATSC/Software/choose_ATSC_PBIL\n",
      "SUMO home: C:\\Program Files (x86)\\Eclipse\\Sumo\\\n",
      "Run dir: data\\results\\runs\\2025-08-19_17-29-07\n"
     ]
    }
   ],
   "source": [
    "# Setup path run\n",
    "PROJECT_ROOT = \"E:/VTS/ITS/Choose ATSC/Software/choose_ATSC_PBIL\"\n",
    "%cd {PROJECT_ROOT}\n",
    "\n",
    "# Setup path for SUMO\n",
    "SUMO_HOME = os.environ.get('SUMO_HOME', '/usr/share/sumo')\n",
    "\n",
    "# Setup config file\n",
    "CONFIG_FILE = os.path.join(PROJECT_ROOT, \"configs\", \"config.json\")\n",
    "\n",
    "# Setup run dir:\n",
    "RUN_DIR = os.path.join(\"data\", \"results\", \"runs\", datetime.now().strftime(\"%Y-%m-%d_%H-%M-%S\"))\n",
    "\n",
    "# Print detail\n",
    "print(f\"Project root: {PROJECT_ROOT}\")\n",
    "print(f\"SUMO home: {SUMO_HOME}\")\n",
    "print(f\"Run dir: {RUN_DIR}\")\n",
    "\n",
    "# Load Config\n",
    "with open(CONFIG_FILE, \"r\") as f:\n",
    "    config = json.load(f)\n"
   ]
  },
  {
   "cell_type": "code",
   "execution_count": 12,
   "id": "066bf31f",
   "metadata": {},
   "outputs": [],
   "source": [
    "# Function for running a command\n",
    "def run_command(cmd):\n",
    "    \"\"\"\n",
    "    Chạy một command (list hoặc string) và stream output ra stdout theo thời gian thực.\n",
    "    \n",
    "    Args:\n",
    "        cmd (list[str] | str): lệnh cần chạy, ví dụ:\n",
    "            [\"poetry\", \"run\", \"run-baselines\", \"--config\", \"configs/config.json\"]\n",
    "            hoặc \"poetry run run-baselines --config configs/config.json\"\n",
    "    \"\"\"\n",
    "    if isinstance(cmd, str):\n",
    "        shell = True\n",
    "    else:\n",
    "        shell = False\n",
    "\n",
    "    process = subprocess.Popen(\n",
    "        cmd,\n",
    "        stdout=subprocess.PIPE,\n",
    "        stderr=subprocess.STDOUT,\n",
    "        text=True,\n",
    "        encoding=\"utf-8\",\n",
    "        errors=\"replace\",\n",
    "        bufsize=1,\n",
    "        shell=shell\n",
    "    )\n",
    "\n",
    "    for line in process.stdout:\n",
    "        print(line, end=\"\")  # stream ngay\n",
    "    process.wait()\n",
    "    return process.returncode\n"
   ]
  },
  {
   "cell_type": "markdown",
   "id": "efc33dcf",
   "metadata": {},
   "source": [
    "### 1. Build net-info and tls-candidate files"
   ]
  },
  {
   "cell_type": "markdown",
   "id": "ddf4b685",
   "metadata": {},
   "source": [
    "Sinh `net-info.json` (No-ATSC / All-ATSC)."
   ]
  },
  {
   "cell_type": "code",
   "execution_count": 8,
   "id": "3f37c504",
   "metadata": {},
   "outputs": [
    {
     "name": "stdout",
     "output_type": "stream",
     "text": [
      "✅ Đã tạo: data/input/sumo/PhuQuoc_v2/net-info.json\n"
     ]
    },
    {
     "data": {
      "text/plain": [
       "0"
      ]
     },
     "execution_count": 8,
     "metadata": {},
     "output_type": "execute_result"
    }
   ],
   "source": [
    "# ============ Build net-info ============\n",
    "run_command([\"poetry\", \"run\", \"build-net-info\", \"--net\", config['sumo']['net_file'], \"--detectors\", config['sumo']['detectors_file'], \"--out\", config['sumo']['net_info_file']])"
   ]
  },
  {
   "cell_type": "markdown",
   "id": "fafdf078",
   "metadata": {},
   "source": [
    "Sinh `tls-candidates.json`"
   ]
  },
  {
   "cell_type": "code",
   "execution_count": 9,
   "id": "d0f28225",
   "metadata": {},
   "outputs": [
    {
     "name": "stdout",
     "output_type": "stream",
     "text": [
      "✅ Đã tạo:  data/input/sumo/PhuQuoc_v2/tls-candidates.json\n"
     ]
    },
    {
     "data": {
      "text/plain": [
       "0"
      ]
     },
     "execution_count": 9,
     "metadata": {},
     "output_type": "execute_result"
    }
   ],
   "source": [
    "# ============ Build tls-candidates ============\n",
    "run_command([\"poetry\", \"run\", \"build-tls-candidates\", \"--net\", config[\"sumo\"][\"net_file\"], \"--out\", config[\"sumo\"][\"candidates_file\"]])"
   ]
  },
  {
   "cell_type": "markdown",
   "id": "e85ff8c4",
   "metadata": {},
   "source": [
    "### 2. Run PBIL Algorithm"
   ]
  },
  {
   "cell_type": "markdown",
   "id": "97454171",
   "metadata": {},
   "source": [
    "Chạy `run_pbil.py` để sinh ra các file kết quả cho thuật toán PBIL."
   ]
  },
  {
   "cell_type": "code",
   "execution_count": 17,
   "id": "87e277e0",
   "metadata": {},
   "outputs": [
    {
     "name": "stdout",
     "output_type": "stream",
     "text": [
      "2025-08-19 17:44:21 [INFO] ========== Starting choose ATSC using PBIL ==========\n",
      "2025-08-19 17:44:21 [INFO] __________ Setting up configuration __________\n",
      "2025-08-19 17:44:21 [INFO] Loaded configuration from: configs/config.json\n",
      "2025-08-19 17:44:21 [INFO] Loaded network information from: data/input/sumo/PhuQuoc_v2/net-info.json\n",
      "2025-08-19 17:44:21 [INFO] Loaded candidate TLS IDs from: data/input/sumo/PhuQuoc_v2/tls-candidates.json\n",
      "2025-08-19 17:44:21 [INFO] Setting up run directory: data/results/runs/2025-08-19_17-29-07\n",
      "2025-08-19 17:44:21 [INFO] Setting up PBIL and SUMO...\n",
      "2025-08-19 17:44:21 [INFO] Using up to 16 parallel processes\n",
      "2025-08-19 17:44:21 [INFO] __________ Generation 1/5: Starting __________\n",
      "2025-08-19 17:44:22 [INFO] Waiting for 5 process(es) to complete...\n",
      "2025-08-19 17:44:28 [INFO] Best:  [1, 0, 0, 0, 1, 0, 0, 1, 1, 1, 0, 1, 1] -> Score: 50.000000\n",
      "2025-08-19 17:44:28 [INFO] Worst: [1, 0, 0, 0, 0, 0, 1, 0, 0, 1, 0, 0, 1] -> Score: 50.000000\n",
      "2025-08-19 17:44:28 [INFO] Updated Probability Vector.\n",
      "2025-08-19 17:44:28 [INFO] __________ Generation 2/5: Starting __________\n",
      "2025-08-19 17:44:28 [INFO] Waiting for 5 process(es) to complete...\n",
      "2025-08-19 17:44:34 [INFO] Best:  [0, 0, 1, 0, 0, 0, 0, 1, 1, 1, 0, 1, 1] -> Score: 50.000000\n",
      "2025-08-19 17:44:34 [INFO] Worst: [1, 0, 1, 1, 0, 0, 1, 0, 1, 1, 0, 1, 0] -> Score: 50.000000\n",
      "2025-08-19 17:44:34 [INFO] Updated Probability Vector.\n",
      "2025-08-19 17:44:34 [INFO] STOP: Convergence reached (eps=0.002000).\n",
      "2025-08-19 17:44:34 [INFO] __________ RESULT __________\n",
      "2025-08-19 17:44:34 [INFO] Best SCORE: 50.000000\n",
      "2025-08-19 17:44:34 [INFO] Case 1: [1, 0, 0, 0, 1, 0, 0, 1, 1, 1, 0, 1, 1] -> Number ATSC 7/13\n",
      "2025-08-19 17:44:34 [INFO] Case 2: [0, 1, 0, 1, 0, 1, 1, 1, 1, 1, 1, 1, 1] -> Number ATSC 10/13\n",
      "2025-08-19 17:44:34 [INFO] Case 3: [1, 1, 0, 1, 0, 0, 1, 0, 1, 0, 0, 1, 1] -> Number ATSC 7/13\n",
      "2025-08-19 17:44:34 [INFO] Case 4: [0, 1, 1, 1, 1, 0, 0, 1, 0, 0, 0, 1, 0] -> Number ATSC 6/13\n",
      "2025-08-19 17:44:34 [INFO] Case 5: [1, 0, 0, 0, 0, 0, 1, 0, 0, 1, 0, 0, 1] -> Number ATSC 4/13\n",
      "2025-08-19 17:44:34 [INFO] Case 6: [0, 0, 1, 0, 0, 0, 0, 1, 1, 1, 0, 1, 1] -> Number ATSC 6/13\n",
      "2025-08-19 17:44:34 [INFO] Case 7: [1, 0, 0, 1, 0, 1, 0, 1, 1, 1, 1, 1, 0] -> Number ATSC 8/13\n",
      "2025-08-19 17:44:34 [INFO] Case 8: [0, 0, 1, 1, 1, 1, 0, 1, 1, 0, 1, 0, 1] -> Number ATSC 8/13\n",
      "2025-08-19 17:44:34 [INFO] Case 9: [1, 1, 1, 0, 1, 1, 1, 0, 0, 1, 0, 1, 0] -> Number ATSC 8/13\n",
      "2025-08-19 17:44:34 [INFO] Case 10: [1, 0, 1, 1, 0, 0, 1, 0, 1, 1, 0, 1, 0] -> Number ATSC 7/13\n",
      "2025-08-19 17:44:34 [INFO] Results saved to: data\\results\\runs\\2025-08-19_17-29-07\n",
      "2025-08-19 17:44:34 [INFO] ========== Choose ATSC using PBIL Completed ==========\n"
     ]
    },
    {
     "data": {
      "text/plain": [
       "0"
      ]
     },
     "execution_count": 17,
     "metadata": {},
     "output_type": "execute_result"
    }
   ],
   "source": [
    "# ============= Run PBIL Algorithm =============\n",
    "run_command([\"poetry\", \"run\", \"run-pbil\", \"--config\", \"configs/config.json\", \"--output\", RUN_DIR])"
   ]
  },
  {
   "cell_type": "markdown",
   "id": "821424e7",
   "metadata": {},
   "source": [
    "### 3. Evaluation Baseline and PBIL Results"
   ]
  },
  {
   "cell_type": "markdown",
   "id": "ec0e3c84",
   "metadata": {},
   "source": [
    "Chạy `evaluate.py` để đánh giá kết quả của các thuật toán (all-ATSC, no-ATSC, PBIL)"
   ]
  },
  {
   "cell_type": "code",
   "execution_count": null,
   "id": "f0d51fbc",
   "metadata": {},
   "outputs": [],
   "source": [
    "# ============= No ATSC =============\n",
    "run_command([\"poetry\", \"run\", \"evaluation\", \"--config\", CONFIG_FILE, \"--output\", RUN_DIR])"
   ]
  },
  {
   "cell_type": "code",
   "execution_count": 16,
   "id": "0f39a3e9",
   "metadata": {},
   "outputs": [
    {
     "name": "stdout",
     "output_type": "stream",
     "text": [
      "Figure(640x480)\n"
     ]
    },
    {
     "data": {
      "image/png": "[encoded data removed]",
      "text/plain": [
       "<IPython.core.display.Image object>"
      ]
     },
     "metadata": {},
     "output_type": "display_data"
    }
   ],
   "source": [
    "randomTrip = os.path.join(SUMO_HOME, 'tools', 'visualization', 'plot_net_trafficLights.py')\n",
    "filename = os.path.join(RUN_DIR, 'ATSC_map.png')\n",
    "run_command([\"poetry\", \"run\", \"python\", randomTrip, '-n', 'data/input/sumo/PhuQuoc_v2/phuquoc.net.xml', '--edge-width', '.5', '--width', '2', '-o', filename])\n",
    "display(Image(filename=filename))"
   ]
  },
  {
   "cell_type": "code",
   "execution_count": 44,
   "id": "2114bb24",
   "metadata": {},
   "outputs": [
    {
     "name": "stderr",
     "output_type": "stream",
     "text": [
      "C:\\Users\\NghiaNL\\.pyenv\\pyenv-win\\versions\\3.12.4\\python.exe: can't open file \"E:\\\\VTS\\\\ITS\\\\Choose ATSC\\\\Software\\\\choose_ATSC_PBIL\\\\'C:\\\\Program\": [Errno 22] Invalid argument\n"
     ]
    }
   ],
   "source": [
    "!python 'C:\\Program Files (x86)\\Eclipse\\Sumo\\tools\\plot_trajectories.py' -t xy -o allLocations_output.png fcd.xml"
   ]
  },
  {
   "cell_type": "code",
   "execution_count": 11,
   "id": "6975df4a",
   "metadata": {},
   "outputs": [
    {
     "name": "stdout",
     "output_type": "stream",
     "text": [
      "The autoreload extension is already loaded. To reload it, use:\n",
      "  %reload_ext autoreload\n",
      "Project root: E:\\VTS\\ITS\\Choose ATSC\\Software\\choose_ATSC_PBIL\n"
     ]
    }
   ],
   "source": [
    "%load_ext autoreload\n",
    "%autoreload 2\n",
    "\n",
    "import os\n",
    "import json\n",
    "from pathlib import Path\n",
    "\n",
    "PROJECT_ROOT = Path(\"..\").resolve()   # tùy chỉnh theo vị trí notebook\n",
    "CONFIGS_DIR = PROJECT_ROOT / \"configs\"\n",
    "DATA_DIR = PROJECT_ROOT / \"data\"\n",
    "RESULTS_DIR = DATA_DIR / \"results\" / \"runs\"\n",
    "\n",
    "print(\"Project root:\", PROJECT_ROOT)\n"
   ]
  },
  {
   "cell_type": "code",
   "execution_count": 3,
   "id": "37432071",
   "metadata": {},
   "outputs": [
    {
     "name": "stdout",
     "output_type": "stream",
     "text": [
      "Building graph.json & tls_candidates.json...\n"
     ]
    },
    {
     "ename": "CalledProcessError",
     "evalue": "Command '['poetry', 'run', 'run-baseline']' returned non-zero exit status 1.",
     "output_type": "error",
     "traceback": [
      "\u001b[31m---------------------------------------------------------------------------\u001b[39m",
      "\u001b[31mCalledProcessError\u001b[39m                        Traceback (most recent call last)",
      "\u001b[36mCell\u001b[39m\u001b[36m \u001b[39m\u001b[32mIn[3]\u001b[39m\u001b[32m, line 6\u001b[39m\n\u001b[32m      2\u001b[39m build_cmd = [\n\u001b[32m      3\u001b[39m     \u001b[33m\"\u001b[39m\u001b[33mpoetry\u001b[39m\u001b[33m\"\u001b[39m, \u001b[33m\"\u001b[39m\u001b[33mrun\u001b[39m\u001b[33m\"\u001b[39m, \u001b[33m\"\u001b[39m\u001b[33mrun-baseline\u001b[39m\u001b[33m\"\u001b[39m\n\u001b[32m      4\u001b[39m ]\n\u001b[32m      5\u001b[39m \u001b[38;5;28mprint\u001b[39m(\u001b[33m\"\u001b[39m\u001b[33mBuilding graph.json & tls_candidates.json...\u001b[39m\u001b[33m\"\u001b[39m)\n\u001b[32m----> \u001b[39m\u001b[32m6\u001b[39m \u001b[43msubprocess\u001b[49m\u001b[43m.\u001b[49m\u001b[43mrun\u001b[49m\u001b[43m(\u001b[49m\u001b[43mbuild_cmd\u001b[49m\u001b[43m,\u001b[49m\u001b[43m \u001b[49m\u001b[43mcheck\u001b[49m\u001b[43m=\u001b[49m\u001b[38;5;28;43;01mTrue\u001b[39;49;00m\u001b[43m)\u001b[49m\n",
      "\u001b[36mFile \u001b[39m\u001b[32m~\\.pyenv\\pyenv-win\\versions\\3.12.4\\Lib\\subprocess.py:571\u001b[39m, in \u001b[36mrun\u001b[39m\u001b[34m(input, capture_output, timeout, check, *popenargs, **kwargs)\u001b[39m\n\u001b[32m    569\u001b[39m     retcode = process.poll()\n\u001b[32m    570\u001b[39m     \u001b[38;5;28;01mif\u001b[39;00m check \u001b[38;5;129;01mand\u001b[39;00m retcode:\n\u001b[32m--> \u001b[39m\u001b[32m571\u001b[39m         \u001b[38;5;28;01mraise\u001b[39;00m CalledProcessError(retcode, process.args,\n\u001b[32m    572\u001b[39m                                  output=stdout, stderr=stderr)\n\u001b[32m    573\u001b[39m \u001b[38;5;28;01mreturn\u001b[39;00m CompletedProcess(process.args, retcode, stdout, stderr)\n",
      "\u001b[31mCalledProcessError\u001b[39m: Command '['poetry', 'run', 'run-baseline']' returned non-zero exit status 1."
     ]
    }
   ],
   "source": [
    "import subprocess\n",
    "build_cmd = [\n",
    "    \"poetry\", \"run\", \"run-baseline\"\n",
    "]\n",
    "print(\"Building graph.json & tls_candidates.json...\")\n",
    "subprocess.run(build_cmd, check=True)\n"
   ]
  },
  {
   "cell_type": "code",
   "execution_count": 5,
   "id": "6fb077c1",
   "metadata": {},
   "outputs": [],
   "source": [
    "%%capture cap\n",
    "!python src/cli/run_baselines.py --config ../configs/experiment.example.json"
   ]
  },
  {
   "cell_type": "markdown",
   "id": "f35fe558",
   "metadata": {},
   "source": [
    "### 3) Visualize Results"
   ]
  },
  {
   "cell_type": "code",
   "execution_count": null,
   "id": "698a37d6",
   "metadata": {},
   "outputs": [
    {
     "name": "stdout",
     "output_type": "stream",
     "text": [
      "Installing dependencies from lock file\n",
      "\n",
      "No dependencies to install or update\n",
      "\n",
      "Installing the current project: choose-atsc-pbil (0.1.0)\n"
     ]
    }
   ],
   "source": []
  },
  {
   "cell_type": "code",
   "execution_count": null,
   "id": "93aa7db0",
   "metadata": {},
   "outputs": [
    {
     "ename": "",
     "evalue": "",
     "output_type": "error",
     "traceback": [
      "\u001b[1;31mRunning cells with 'choose-atsc-pbil-GIRhaIaW-py3.12 (Python 3.12.4)' requires the ipykernel package.\n",
      "\u001b[1;31mInstall 'ipykernel' into the Python environment. \n",
      "\u001b[1;31mCommand: 'c:/Users/NghiaNL/AppData/Local/pypoetry/Cache/virtualenvs/choose-atsc-pbil-GIRhaIaW-py3.12/Scripts/python.exe -m pip install ipykernel -U --force-reinstall'"
     ]
    }
   ],
   "source": [
    "# Run NO-ATSC baseline\n",
    "!poetry run run-custom --config \"$path_folder/configs/configs.json\" --net_info \"$path_folder/net_info.json\""
   ]
  }
 ],
 "metadata": {
  "kernelspec": {
   "display_name": "choose-atsc-pbil-GIRhaIaW-py3.12",
   "language": "python",
   "name": "python3"
  },
  "language_info": {
   "codemirror_mode": {
    "name": "ipython",
    "version": 3
   },
   "file_extension": ".py",
   "mimetype": "text/x-python",
   "name": "python",
   "nbconvert_exporter": "python",
   "pygments_lexer": "ipython3",
   "version": "3.12.4"
  }
 },
 "nbformat": 4,
 "nbformat_minor": 5
}
