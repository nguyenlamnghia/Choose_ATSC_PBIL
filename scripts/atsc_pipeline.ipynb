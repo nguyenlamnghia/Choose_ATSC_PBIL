{
 "cells": [
  {
   "cell_type": "markdown",
   "id": "2e5d87d7",
   "metadata": {},
   "source": [
    "\n",
    "# ATSC PBIL: Pipeline Notebook\n",
    "\n",
    "Notebook này chạy tuần tự các bước:\n",
    "1) **Build graph** từ dữ liệu SUMO → `graph.json`, `tls_candidates.json`  \n",
    "2) **Chạy baselines** (No-ATSC / All-ATSC)  \n",
    "3) **(Tuỳ chọn)** Chạy **PBIL**  \n",
    "4) **Tổng hợp & trực quan hoá** kết quả\n",
    "\n",
    "> Gợi ý: đặt file này vào thư mục `scripts/` của repo: `scripts/atsc_pipeline.ipynb`.\n"
   ]
  },
  {
   "cell_type": "markdown",
   "id": "933a5a02",
   "metadata": {},
   "source": [
    "\n",
    "## 0) Chuẩn bị môi trường\n",
    "\n",
    "- Bảo đảm bạn có Python env với các dependency trong `pyproject.toml` đã cài đặt.\n",
    "- Đặt biến môi trường `SUMO_HOME` (và SUMO đã trong PATH nếu cần)."
   ]
  },
  {
   "cell_type": "code",
   "execution_count": 1,
   "id": "6fd0c5f0",
   "metadata": {},
   "outputs": [
    {
     "name": "stdout",
     "output_type": "stream",
     "text": [
      "Python: 3.12.4 (tags/v3.12.4:8e8a4ba, Jun  6 2024, 19:30:16) [MSC v.1940 64 bit (AMD64)]\n",
      "Executable: c:\\Users\\NghiaNL\\AppData\\Local\\pypoetry\\Cache\\virtualenvs\\choose-atsc-pbil-GIRhaIaW-py3.12\\Scripts\\python.exe\n",
      "CWD: e:\\VTS\\ITS\\Choose ATSC\\Software\\choose_ATSC_PBIL\\scripts\n",
      "Platform: Windows-11-10.0.26100-SP0\n",
      "SUMO_HOME: C:\\Program Files (x86)\\Eclipse\\Sumo\\\n"
     ]
    }
   ],
   "source": [
    "\n",
    "# Kiểm tra phiên bản Python & vị trí python\n",
    "import sys, os, subprocess, json, pathlib, platform\n",
    "print(\"Python:\", sys.version)\n",
    "print(\"Executable:\", sys.executable)\n",
    "print(\"CWD:\", os.getcwd())\n",
    "print(\"Platform:\", platform.platform())\n",
    "print(\"SUMO_HOME:\", os.environ.get(\"SUMO_HOME\", \"(chưa đặt)\"))\n",
    "\n",
    "# (Tuỳ chọn) In ra các gói đã cài\n",
    "# !pip list | head -n 50\n"
   ]
  },
  {
   "cell_type": "markdown",
   "id": "e261ca67",
   "metadata": {},
   "source": [
    "\n",
    "## 1) Tham số pipeline\n",
    "\n",
    "Chỉnh sửa các biến dưới đây cho phù hợp cấu trúc repo của bạn.\n"
   ]
  },
  {
   "cell_type": "code",
   "execution_count": 5,
   "id": "2c2fd52f",
   "metadata": {},
   "outputs": [
    {
     "name": "stdout",
     "output_type": "stream",
     "text": [
      "e:\\VTS\\ITS\\Choose ATSC\\Software\\choose_ATSC_PBIL\\data\\input\\sumo OK\n",
      "e:\\VTS\\ITS\\Choose ATSC\\Software\\choose_ATSC_PBIL\\data\\processed OK\n",
      "e:\\VTS\\ITS\\Choose ATSC\\Software\\choose_ATSC_PBIL\\data\\results OK\n",
      "e:\\VTS\\ITS\\Choose ATSC\\Software\\choose_ATSC_PBIL\\configs OK\n"
     ]
    }
   ],
   "source": [
    "\n",
    "from pathlib import Path\n",
    "import datetime, json, os, sys\n",
    "\n",
    "# === Paths tương đối so với root repo ===\n",
    "# REPO_ROOT = Path.cwd()  # nếu notebook đặt tại scripts/ thì REPO_ROOT.parent.parent... điều chỉnh nếu cần\n",
    "\n",
    "# Nếu bạn đặt notebook ở scripts/, thay bằng: REPO_ROOT = Path.cwd().parent\n",
    "REPO_ROOT = Path.cwd().parent\n",
    "\n",
    "DATA_INPUT_SUMO = REPO_ROOT / \"data\" / \"input\" / \"sumo\"\n",
    "DATA_PROCESSED  = REPO_ROOT / \"data\" / \"processed\"\n",
    "DATA_RESULTS    = REPO_ROOT / \"data\" / \"results\"\n",
    "CONFIGS_DIR     = REPO_ROOT / \"configs\"\n",
    "\n",
    "# File cấu hình ví dụ cho PBIL / logging\n",
    "EXPERIMENT_CFG  = CONFIGS_DIR / \"experiment.example.json\"\n",
    "LOGGING_YAML    = CONFIGS_DIR / \"logging.yaml\"\n",
    "\n",
    "# Thời gian chạy đặt tên thư mục kết quả nếu dùng thủ công\n",
    "RUN_STAMP = datetime.datetime.now().strftime(\"%Y-%m-%d_%H-%M-%S\")\n",
    "\n",
    "for p in [DATA_INPUT_SUMO, DATA_PROCESSED, DATA_RESULTS, CONFIGS_DIR]:\n",
    "    print(p, \"OK\" if p.exists() else \"MISSING\")\n"
   ]
  },
  {
   "cell_type": "markdown",
   "id": "0d6ebc75",
   "metadata": {},
   "source": [
    "\n",
    "## 2) Build graph (`src/cli/build_graph.py`)\n",
    "\n",
    "Sinh `graph.json` và `tls_candidates.json` từ dữ liệu SUMO.\n"
   ]
  },
  {
   "cell_type": "code",
   "execution_count": 10,
   "id": "c947281c",
   "metadata": {},
   "outputs": [
    {
     "name": "stdout",
     "output_type": "stream",
     "text": [
      "c:\\Users\\NghiaNL\\AppData\\Local\\pypoetry\\Cache\\virtualenvs\\choose-atsc-pbil-GIRhaIaW-py3.12\\Scripts\\python.exe -m choose_atsc_pbil.cli.run_baselines\n",
      "\n",
      "Build graph hoàn tất.\n"
     ]
    }
   ],
   "source": [
    "\n",
    "import sys, subprocess, os\n",
    "from pathlib import Path\n",
    "\n",
    "cmd = [\n",
    "    sys.executable, \"-m\", \"choose_atsc_pbil.cli.run_baselines\"\n",
    "]\n",
    "\n",
    "print(\" \".join(cmd))\n",
    "res = subprocess.run(cmd, capture_output=True, text=True)\n",
    "print(res.stdout)\n",
    "if res.returncode != 0:\n",
    "    print(res.stderr)\n",
    "    raise SystemExit(res.returncode)\n",
    "\n",
    "print(\"Build graph hoàn tất.\")\n"
   ]
  },
  {
   "cell_type": "markdown",
   "id": "9f981285",
   "metadata": {},
   "source": [
    "\n",
    "## 3) Chạy baselines (`src/cli/run_baselines.py`)\n",
    "\n",
    "Sinh `baseline_metrics.json` (No-ATSC / All-ATSC).\n"
   ]
  },
  {
   "cell_type": "code",
   "execution_count": null,
   "id": "3545c035",
   "metadata": {},
   "outputs": [],
   "source": [
    "\n",
    "import sys, subprocess\n",
    "\n",
    "cmd = [\n",
    "    sys.executable, \"-m\", \"src.cli.run_baselines\",\n",
    "    \"--graph\", str(DATA_PROCESSED / \"graph.json\"),\n",
    "    \"--tls\", str(DATA_PROCESSED / \"tls_candidates.json\"),\n",
    "    \"--out\", str(DATA_PROCESSED / \"baseline_metrics.json\"),\n",
    "    \"--logging\", str(LOGGING_YAML),\n",
    "    # Tham số ví dụ thêm (bật/tắt warmup, seed, v.v.). Điều chỉnh tùy theo argparse của bạn:\n",
    "    # \"--warmup\", \"300\",\n",
    "    # \"--seed\", \"42\",\n",
    "]\n",
    "print(\" \".join(cmd))\n",
    "res = subprocess.run(cmd, capture_output=True, text=True)\n",
    "print(res.stdout)\n",
    "if res.returncode != 0:\n",
    "    print(res.stderr)\n",
    "    raise SystemExit(res.returncode)\n",
    "\n",
    "print(\"Baselines hoàn tất.\")\n"
   ]
  },
  {
   "cell_type": "markdown",
   "id": "8882e4dd",
   "metadata": {},
   "source": [
    "\n",
    "## 4) (Tuỳ chọn) Chạy PBIL (`src/cli/run_pbil.py`)\n",
    "\n",
    "Tạo thư mục `data/results/runs/<timestamp>/` chứa `best_overall.json`, `run_config_snapshot.json`, v.v.\n"
   ]
  },
  {
   "cell_type": "code",
   "execution_count": null,
   "id": "4feafb39",
   "metadata": {},
   "outputs": [],
   "source": [
    "\n",
    "import sys, subprocess\n",
    "\n",
    "# Bật/tắt theo nhu cầu\n",
    "RUN_PBIL = True\n",
    "\n",
    "if RUN_PBIL:\n",
    "    cmd = [\n",
    "        sys.executable, \"-m\", \"src.cli.run_pbil\",\n",
    "        \"--config\", str(EXPERIMENT_CFG),\n",
    "        \"--logging\", str(LOGGING_YAML),\n",
    "        # Ví dụ override thư mục kết quả (nếu script hỗ trợ):\n",
    "        # \"--outdir\", str(DATA_RESULTS / \"runs\" / RUN_STAMP),\n",
    "    ]\n",
    "    print(\" \".join(cmd))\n",
    "    res = subprocess.run(cmd, capture_output=True, text=True)\n",
    "    print(res.stdout)\n",
    "    if res.returncode != 0:\n",
    "        print(res.stderr)\n",
    "        raise SystemExit(res.returncode)\n",
    "\n",
    "    print(\"PBIL hoàn tất.\")\n",
    "else:\n",
    "    print(\"Bỏ qua bước PBIL (RUN_PBIL = False).\")\n"
   ]
  },
  {
   "cell_type": "markdown",
   "id": "d6e70c84",
   "metadata": {},
   "source": [
    "\n",
    "## 5) Tổng hợp & tìm run mới nhất\n"
   ]
  },
  {
   "cell_type": "code",
   "execution_count": null,
   "id": "db4e7419",
   "metadata": {},
   "outputs": [],
   "source": [
    "\n",
    "from pathlib import Path\n",
    "import json\n",
    "\n",
    "def latest_run_dir(results_root: Path) -> Path | None:\n",
    "    runs = sorted((results_root / \"runs\").glob(\"*\"))\n",
    "    if not runs:\n",
    "        return None\n",
    "    return runs[-1]\n",
    "\n",
    "latest = latest_run_dir(DATA_RESULTS)\n",
    "print(\"Latest run:\", latest)\n",
    "\n",
    "best_overall = None\n",
    "if latest and (latest / \"best_overall.json\").exists():\n",
    "    with open(latest / \"best_overall.json\", \"r\", encoding=\"utf-8\") as f:\n",
    "        best_overall = json.load(f)\n",
    "\n",
    "baseline = None\n",
    "if (DATA_PROCESSED / \"baseline_metrics.json\").exists():\n",
    "    with open(DATA_PROCESSED / \"baseline_metrics.json\", \"r\", encoding=\"utf-8\") as f:\n",
    "        baseline = json.load(f)\n",
    "\n",
    "print(\"Có best_overall.json:\", best_overall is not None)\n",
    "print(\"Có baseline_metrics.json:\", baseline is not None)\n"
   ]
  },
  {
   "cell_type": "markdown",
   "id": "d40debab",
   "metadata": {},
   "source": [
    "\n",
    "## 6) Trực quan hoá\n",
    "\n",
    "### 6.1) So sánh Baseline (No-ATSC vs All-ATSC)\n"
   ]
  },
  {
   "cell_type": "code",
   "execution_count": null,
   "id": "cdc555b9",
   "metadata": {},
   "outputs": [],
   "source": [
    "\n",
    "import json\n",
    "import matplotlib.pyplot as plt\n",
    "from pathlib import Path\n",
    "\n",
    "# Kỳ vọng baseline_metrics.json dạng:\n",
    "# {\n",
    "#   \"No-ATSC\": {\"avg_delay\": ..., \"throughput\": ..., \"queue_len\": ...},\n",
    "#   \"All-ATSC\": {\"avg_delay\": ..., \"throughput\": ..., \"queue_len\": ...}\n",
    "# }\n",
    "\n",
    "baseline_path = DATA_PROCESSED / \"baseline_metrics.json\"\n",
    "if baseline_path.exists():\n",
    "    with open(baseline_path, \"r\", encoding=\"utf-8\") as f:\n",
    "        data = json.load(f)\n",
    "    metrics = sorted(next(iter(data.values())).keys())\n",
    "    methods = list(data.keys())\n",
    "\n",
    "    for metric in metrics:\n",
    "        plt.figure()\n",
    "        vals = [data[m][metric] for m in methods]\n",
    "        plt.bar(methods, vals)\n",
    "        plt.title(f\"Baseline comparison: {metric}\")\n",
    "        plt.xlabel(\"Method\")\n",
    "        plt.ylabel(metric)\n",
    "        plt.show()\n",
    "else:\n",
    "    print(\"Không tìm thấy baseline_metrics.json để vẽ.\")\n"
   ]
  },
  {
   "cell_type": "markdown",
   "id": "a20a7bd1",
   "metadata": {},
   "source": [
    "\n",
    "### 6.2) PBIL so với Baseline\n"
   ]
  },
  {
   "cell_type": "code",
   "execution_count": null,
   "id": "2800a499",
   "metadata": {},
   "outputs": [],
   "source": [
    "\n",
    "import matplotlib.pyplot as plt\n",
    "import json\n",
    "\n",
    "# Kỳ vọng best_overall.json tối thiểu có:\n",
    "# {\n",
    "#   \"score\": {\"avg_delay\": ..., \"throughput\": ..., ...},\n",
    "#   \"config\": {...},\n",
    "#   \"meta\": {...}\n",
    "# }\n",
    "\n",
    "if best_overall and baseline:\n",
    "    metrics = sorted(best_overall[\"score\"].keys())\n",
    "    for metric in metrics:\n",
    "        plt.figure()\n",
    "        xs, ys = [], []\n",
    "        # PBIL\n",
    "        xs.append(\"PBIL-best\")\n",
    "        ys.append(best_overall[\"score\"].get(metric, None))\n",
    "        # Baselines\n",
    "        for name, vals in baseline.items():\n",
    "            xs.append(name)\n",
    "            ys.append(vals.get(metric, None))\n",
    "        plt.bar(xs, ys)\n",
    "        plt.title(f\"PBIL vs Baselines: {metric}\")\n",
    "        plt.xlabel(\"Method\")\n",
    "        plt.ylabel(metric)\n",
    "        plt.show()\n",
    "else:\n",
    "    print(\"Thiếu dữ liệu để so sánh PBIL và baseline.\")\n"
   ]
  },
  {
   "cell_type": "markdown",
   "id": "cbc8a7d6",
   "metadata": {},
   "source": [
    "\n",
    "### 6.3) Inspect cấu hình tốt nhất (best_overall)\n"
   ]
  },
  {
   "cell_type": "code",
   "execution_count": null,
   "id": "4e1edbf9",
   "metadata": {},
   "outputs": [],
   "source": [
    "\n",
    "import pprint, json\n",
    "\n",
    "if best_overall:\n",
    "    print(\"=== SCORE ===\")\n",
    "    pprint.pprint(best_overall.get(\"score\", {}), compact=True)\n",
    "    print(\"\\n=== META ===\")\n",
    "    pprint.pprint(best_overall.get(\"meta\", {}), compact=True)\n",
    "    print(\"\\n=== CONFIG (rút gọn) ===\")\n",
    "    cfg = best_overall.get(\"config\", {})\n",
    "    keys = list(cfg.keys())\n",
    "    preview = {k: cfg[k] for k in keys[:20]}  # in rút gọn\n",
    "    pprint.pprint(preview, compact=True)\n",
    "else:\n",
    "    print(\"Chưa có best_overall.json\")\n"
   ]
  },
  {
   "cell_type": "markdown",
   "id": "a061372a",
   "metadata": {},
   "source": [
    "\n",
    "## Phụ lục: Chạy các script trực tiếp\n",
    "\n",
    "Nếu bạn muốn gọi trực tiếp `sim_runner.py` hoặc controller tuỳ chỉnh, có thể thêm cell tương tự sau và điều chỉnh tham số.\n"
   ]
  },
  {
   "cell_type": "code",
   "execution_count": null,
   "id": "504e609b",
   "metadata": {},
   "outputs": [],
   "source": [
    "\n",
    "# Ví dụ minh hoạ — điều chỉnh theo argparse thực tế của bạn:\n",
    "# import sys, subprocess\n",
    "# cmd = [sys.executable, \"-m\", \"src.sim.sim_runner\", \"--config\", str(EXPERIMENT_CFG)]\n",
    "# print(\" \".join(cmd)); res = subprocess.run(cmd, text=True); print(res.returncode)\n"
   ]
  }
 ],
 "metadata": {
  "kernelspec": {
   "display_name": "choose-atsc-pbil-GIRhaIaW-py3.12",
   "language": "python",
   "name": "python3"
  },
  "language_info": {
   "codemirror_mode": {
    "name": "ipython",
    "version": 3
   },
   "file_extension": ".py",
   "mimetype": "text/x-python",
   "name": "python",
   "nbconvert_exporter": "python",
   "pygments_lexer": "ipython3",
   "version": "3.12.4"
  }
 },
 "nbformat": 4,
 "nbformat_minor": 5
}
