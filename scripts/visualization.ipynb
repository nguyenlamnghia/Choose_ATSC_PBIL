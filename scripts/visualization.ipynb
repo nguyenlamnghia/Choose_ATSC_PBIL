{
 "cells": [
  {
   "cell_type": "markdown",
   "id": "eb91a644",
   "metadata": {},
   "source": [
    "\n",
    "# ATSC PBIL: Pipeline Notebook\n",
    "\n",
    "Notebook này chạy tuần tự các bước:\n",
    "1) Build **net-info file** và **tls-candidates** → `net-info.json`, `tls-candidates.json`\n",
    "2) **Chạy baselines** (No-ATSC / All-ATSC)  \n",
    "3) **Chạy thuật toán lựa chọn nút giao** (PBIL)\n",
    "4) **Chạy đánh giá kết quả** (Evaluate)\n",
    "5) **Tổng hợp & trực quan hoá** kết quả\n",
    "\n",
    "> Gợi ý: đặt file này vào thư mục `scripts/` của repo: `scripts/atsc_pipeline.ipynb`."
   ]
  },
  {
   "cell_type": "markdown",
   "id": "d6bb6a99",
   "metadata": {},
   "source": [
    "### 0. Setup Environment"
   ]
  },
  {
   "cell_type": "code",
   "execution_count": null,
   "id": "371a62df",
   "metadata": {},
   "outputs": [],
   "source": [
    "# Install dependencies\n",
    "!poetry install\n",
    "# Import libraries dependencies\n",
    "import subprocess\n",
    "import json\n",
    "import os\n",
    "from IPython.display import Image, display\n",
    "from datetime import datetime"
   ]
  },
  {
   "cell_type": "code",
   "execution_count": null,
   "id": "87641fbb",
   "metadata": {},
   "outputs": [],
   "source": [
    "# Setup path run\n",
    "PROJECT_ROOT = \"E:/VTS/ITS/Choose ATSC/Software/choose_ATSC_PBIL\"\n",
    "%cd {PROJECT_ROOT}\n",
    "\n",
    "# Setup path for SUMO\n",
    "SUMO_HOME = os.environ.get('SUMO_HOME', '/usr/share/sumo')\n",
    "\n",
    "# Setup config file\n",
    "CONFIG_FILE = os.path.join(PROJECT_ROOT, \"configs\", \"config.json\")\n",
    "\n",
    "# Setup run dir:\n",
    "RUN_DIR = \"data/results/runs/2025-08-20_14-04-42\"\n",
    "\n",
    "# ------------------ DO NOT MODIFY ------------------\n",
    "\n",
    "# If not setup run dir\n",
    "if not RUN_DIR:\n",
    "    RUN_DIR = os.path.join(\"data\", \"results\", \"runs\", datetime.now().strftime(\"%Y-%m-%d_%H-%M-%S\"))\n",
    "\n",
    "# Print detail\n",
    "print(f\"Project root: {PROJECT_ROOT}\")\n",
    "print(f\"SUMO home: {SUMO_HOME}\")\n",
    "print(f\"Run dir: {RUN_DIR}\")\n",
    "\n",
    "# Load Config\n",
    "with open(CONFIG_FILE, \"r\") as f:\n",
    "    config = json.load(f)\n"
   ]
  },
  {
   "cell_type": "code",
   "execution_count": null,
   "id": "066bf31f",
   "metadata": {},
   "outputs": [],
   "source": [
    "# Function for running a command\n",
    "def run_command(cmd):\n",
    "    \"\"\"\n",
    "    Chạy một command (list hoặc string) và stream output ra stdout theo thời gian thực.\n",
    "    \n",
    "    Args:\n",
    "        cmd (list[str] | str): lệnh cần chạy, ví dụ:\n",
    "            [\"poetry\", \"run\", \"run-baselines\", \"--config\", \"configs/config.json\"]\n",
    "            hoặc \"poetry run run-baselines --config configs/config.json\"\n",
    "    \"\"\"\n",
    "    if isinstance(cmd, str):\n",
    "        shell = True\n",
    "    else:\n",
    "        shell = False\n",
    "\n",
    "    process = subprocess.Popen(\n",
    "        cmd,\n",
    "        stdout=subprocess.PIPE,\n",
    "        stderr=subprocess.STDOUT,\n",
    "        text=True,\n",
    "        encoding=\"utf-8\",\n",
    "        errors=\"replace\",\n",
    "        bufsize=1,\n",
    "        shell=shell\n",
    "    )\n",
    "\n",
    "    for line in process.stdout:\n",
    "        print(line, end=\"\")  # stream ngay\n",
    "    process.wait()\n",
    "    return process.returncode\n"
   ]
  },
  {
   "cell_type": "markdown",
   "id": "efc33dcf",
   "metadata": {},
   "source": [
    "### 1. Build net-info and tls-candidate files"
   ]
  },
  {
   "cell_type": "markdown",
   "id": "ddf4b685",
   "metadata": {},
   "source": [
    "Sinh `net-info.json` (No-ATSC / All-ATSC)."
   ]
  },
  {
   "cell_type": "code",
   "execution_count": null,
   "id": "3f37c504",
   "metadata": {},
   "outputs": [],
   "source": [
    "# ============ Build net-info ============\n",
    "run_command([\"poetry\", \"run\", \"build-net-info\", \"--net\", config['sumo']['net_file'], \"--detectors\", config['sumo']['detectors_file'], \"--out\", config['sumo']['net_info_file']])"
   ]
  },
  {
   "cell_type": "markdown",
   "id": "fafdf078",
   "metadata": {},
   "source": [
    "Sinh `tls-candidates.json`"
   ]
  },
  {
   "cell_type": "code",
   "execution_count": null,
   "id": "d0f28225",
   "metadata": {},
   "outputs": [],
   "source": [
    "# ============ Build tls-candidates ============\n",
    "run_command([\"poetry\", \"run\", \"build-tls-candidates\", \"--net\", config[\"sumo\"][\"net_file\"], \"--out\", config[\"sumo\"][\"candidates_file\"]])"
   ]
  },
  {
   "cell_type": "markdown",
   "id": "e85ff8c4",
   "metadata": {},
   "source": [
    "### 2. Run PBIL Algorithm"
   ]
  },
  {
   "cell_type": "markdown",
   "id": "97454171",
   "metadata": {},
   "source": [
    "Chạy `run_pbil.py` để sinh ra các file kết quả cho thuật toán PBIL."
   ]
  },
  {
   "cell_type": "code",
   "execution_count": null,
   "id": "87e277e0",
   "metadata": {},
   "outputs": [],
   "source": [
    "# ============= Run PBIL Algorithm =============\n",
    "run_command([\"poetry\", \"run\", \"run-custom\", \"--config\", \"configs/config.json\", \"--output\", RUN_DIR])"
   ]
  },
  {
   "cell_type": "markdown",
   "id": "821424e7",
   "metadata": {},
   "source": [
    "### 3. Evaluation Baseline and PBIL Results"
   ]
  },
  {
   "cell_type": "markdown",
   "id": "ec0e3c84",
   "metadata": {},
   "source": [
    "Chạy `evaluate.py` để đánh giá kết quả của các thuật toán (all-ATSC, no-ATSC, PBIL)"
   ]
  },
  {
   "cell_type": "code",
   "execution_count": null,
   "id": "f0d51fbc",
   "metadata": {},
   "outputs": [],
   "source": [
    "# ============= RUN EVALUATION =============\n",
    "BEST_CONFIG_FILE = os.path.join(RUN_DIR, \"pbil\", \"best_configs.json\")\n",
    "run_command([\"poetry\", \"run\", \"evaluation\", \"--config\", CONFIG_FILE, \"--output\", RUN_DIR, \"--best\", BEST_CONFIG_FILE])"
   ]
  },
  {
   "cell_type": "markdown",
   "id": "444cd403",
   "metadata": {},
   "source": [
    "### 4. Visualization\n"
   ]
  },
  {
   "cell_type": "markdown",
   "id": "bb94c14c",
   "metadata": {},
   "source": [
    "#### 4.0 Import thư viện cần thiết"
   ]
  },
  {
   "cell_type": "code",
   "execution_count": null,
   "id": "ec049fab",
   "metadata": {},
   "outputs": [],
   "source": [
    "import json\n",
    "import pandas as pd"
   ]
  },
  {
   "cell_type": "markdown",
   "id": "f36b1019",
   "metadata": {},
   "source": [
    "#### 4.1 Bảng so sánh kết quả `pbil_results.csv`\n"
   ]
  },
  {
   "cell_type": "code",
   "execution_count": null,
   "id": "4e927db5",
   "metadata": {},
   "outputs": [],
   "source": [
    "# Params — Sửa 3 biến này cho phù hợp\n",
    "scores_path = \"/content/scores_history.json\"      # path tới scores_history.json\n",
    "tls_candidates_path = \"/content/tls-candidates.json\"  # path tới tls-candidates.json\n",
    "N = 10  # Hiển thị bao nhiêu hàng\n",
    "\n",
    "# Đọc file\n",
    "with open(tls_candidates_path, \"r\", encoding=\"utf-8\") as f:\n",
    "    tls_data = json.load(f)\n",
    "\n",
    "with open(scores_path, \"r\", encoding=\"utf-8\") as f:\n",
    "    scores_history = json.load(f)\n",
    "\n",
    "# Lấy danh sách tiêu đề cột từ tls-candidates (giữ nguyên thứ tự khóa trong file)\n",
    "candidate_ids = list(tls_data[\"candidate_tls_ids\"].keys())\n",
    "\n",
    "# Chuyển đổi dữ liệu scores_history -> DataFrame\n",
    "# Mỗi phần tử có dạng [atsc_array, score]\n",
    "rows = []\n",
    "for item in scores_history:\n",
    "    atsc_array, score = item\n",
    "    # Bảo vệ: nếu độ dài mảng chưa khớp số cột, cắt hoặc đệm 0 cho khớp\n",
    "    if len(atsc_array) < len(candidate_ids):\n",
    "        atsc_array = atsc_array + [0] * (len(candidate_ids) - len(atsc_array))\n",
    "    elif len(atsc_array) > len(candidate_ids):\n",
    "        atsc_array = atsc_array[: len(candidate_ids)]\n",
    "\n",
    "    row = {cid: val for cid, val in zip(candidate_ids, atsc_array)}\n",
    "    row[\"Total ATSC\"] = sum(atsc_array)\n",
    "    row[\"Score\"] = float(score)\n",
    "    rows.append(row)\n",
    "\n",
    "df = pd.DataFrame(rows, columns=candidate_ids + [\"Total ATSC\", \"Score\"])\n",
    "\n",
    "# Sắp xếp theo Score tăng dần và hiển thị N hàng\n",
    "df_sorted = df.sort_values(by=\"Score\", ascending=True, kind=\"mergesort\").reset_index(drop=True)\n",
    "display(df_sorted.head(N))\n",
    "\n",
    "output_path = \"/content/scores_sorted.csv\"\n",
    "df_sorted.to_csv(output_path, index=False, encoding=\"utf-8\")\n",
    "\n",
    "print(f\"Đã xuất ra file: {output_path}\")\n"
   ]
  },
  {
   "cell_type": "code",
   "execution_count": null,
   "id": "0f39a3e9",
   "metadata": {},
   "outputs": [],
   "source": [
    "randomTrip = os.path.join(SUMO_HOME, 'tools', 'visualization', 'plot_net_trafficLights.py')\n",
    "filename = os.path.join(RUN_DIR, 'ATSC_map.png')\n",
    "run_command([\"poetry\", \"run\", \"python\", randomTrip, '-n', 'data/input/sumo/PhuQuoc_v2/phuquoc.net.xml', '--edge-width', '.5', '--width', '2', '-o', filename])\n",
    "display(Image(filename=filename))"
   ]
  },
  {
   "cell_type": "code",
   "execution_count": null,
   "id": "192fa82a",
   "metadata": {},
   "outputs": [],
   "source": [
    "plotXMLAttributes = os.path.join(SUMO_HOME, 'tools', 'visualization', 'plotXMLAttributes.py')\n",
    "filename = 'ATSC_map.png'\n",
    "run_command([\"poetry\", \"run\", \"python\", plotXMLAttributes, 'data/results/runs/2025-08-20_14-04-42/evaluation/output_all_atsc_summary-output.xml', 'data/results/runs/2025-08-20_14-04-42/evaluation/output_all_fixed_summary-output.xml', 'data/results/runs/2025-08-20_14-04-42/evaluation/output_pbil_atsc_summary-output.xml', '--title', 'Running', '--legend' , '-x', 'time', '-y', 'running,meanTravelTime', '-o', filename])\n",
    "display(Image(filename=filename))"
   ]
  },
  {
   "cell_type": "markdown",
   "id": "1fdc2ecc",
   "metadata": {},
   "source": []
  },
  {
   "cell_type": "markdown",
   "id": "f35fe558",
   "metadata": {},
   "source": [
    "### 3) Visualize Results"
   ]
  },
  {
   "cell_type": "code",
   "execution_count": null,
   "id": "698a37d6",
   "metadata": {},
   "outputs": [],
   "source": []
  },
  {
   "cell_type": "code",
   "execution_count": null,
   "id": "93aa7db0",
   "metadata": {},
   "outputs": [],
   "source": [
    "# Run NO-ATSC baseline\n",
    "!poetry run run-custom --config \"$path_folder/configs/configs.json\" --net_info \"$path_folder/net_info.json\""
   ]
  }
 ],
 "metadata": {
  "kernelspec": {
   "display_name": "choose-atsc-pbil-GIRhaIaW-py3.12",
   "language": "python",
   "name": "python3"
  },
  "language_info": {
   "codemirror_mode": {
    "name": "ipython",
    "version": 3
   },
   "file_extension": ".py",
   "mimetype": "text/x-python",
   "name": "python",
   "nbconvert_exporter": "python",
   "pygments_lexer": "ipython3",
   "version": "3.12.4"
  }
 },
 "nbformat": 4,
 "nbformat_minor": 5
}
